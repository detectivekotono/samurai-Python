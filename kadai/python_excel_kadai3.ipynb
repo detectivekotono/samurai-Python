{
  "nbformat": 4,
  "nbformat_minor": 0,
  "metadata": {
    "colab": {
      "provenance": []
    },
    "kernelspec": {
      "name": "python3",
      "display_name": "Python 3"
    },
    "language_info": {
      "name": "python"
    }
  },
  "cells": [
    {
      "cell_type": "code",
      "execution_count": 40,
      "metadata": {
        "collapsed": true,
        "id": "3MIV6hm9MktL"
      },
      "outputs": [],
      "source": [
        "import pandas as pd\n",
        "import openpyxl\n",
        "from openpyxl.styles import PatternFill\n",
        "\n",
        "#Excelファイルを読み込む\n",
        "file_list = ['2022_年間売上表.xlsx', '2023_年間売上表.xlsx']\n",
        "# 1行目をスキップ\n",
        "temp_df = pd.read_excel('2022_年間売上表.xlsx', skiprows=0)\n",
        "# 結合後のデータを格納するための空のデータフレームを作成\n",
        "df = pd.DataFrame()\n",
        "# ファイルを一つずつ処理する\n",
        "for file_name in file_list:\n",
        "    # Excelファイルを読み込む\n",
        "    temp_df = pd.read_excel(file_name)\n",
        "    # データフレームの列名を指定\n",
        "    temp_df.columns = ['売上年', '商品', '金額（千円）']\n",
        "    # concat()でデータフレームを連結\n",
        "    df = pd.concat([df, temp_df], ignore_index=True)\n",
        "#「商品」と「売上年」でグループ化し、「金額(千円)を」合計します\n",
        "grouped_data = df.groupby(['商品','売上年']).agg({'金額（千円）':'sum'}).reset_index()\n",
        "#グループ化して集計したデータをExcelに書き込む\n",
        "grouped_data.to_excel('売上集計表.xlsx', index=False)\n",
        "# Excelファイルを読み込み\n",
        "wb = openpyxl.load_workbook('売上集計表.xlsx')\n",
        "# アクティブなシートを選択\n",
        "sheet = wb.active\n",
        "# 背景色の設定（薄いグレー）\n",
        "gray_fill = PatternFill(start_color='F2F2F2', end_color='F2F2F2', fill_type='solid')\n",
        "\n",
        "# A1, B1, C1セルの背景色を変更\n",
        "sheet['A1'].fill = gray_fill\n",
        "sheet['B1'].fill = gray_fill\n",
        "sheet['C1'].fill = gray_fill\n",
        "\n",
        "# ファイルに保存\n",
        "wb.save('売上集計表.xlsx')"
      ]
    },
    {
      "cell_type": "code",
      "source": [],
      "metadata": {
        "id": "NdNGcGNRwR0M"
      },
      "execution_count": null,
      "outputs": []
    }
  ]
}